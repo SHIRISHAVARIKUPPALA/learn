{
 "cells": [
  {
   "cell_type": "code",
   "execution_count": 1,
   "id": "fd6341fd-bc93-40a5-971b-433c58cf74ae",
   "metadata": {},
   "outputs": [
    {
     "name": "stdout",
     "output_type": "stream",
     "text": [
      "Hello\n"
     ]
    }
   ],
   "source": [
    "print(\"Hello\")"
   ]
  },
  {
   "cell_type": "code",
   "execution_count": 1,
   "id": "88e3babc-0da5-4fd1-bf5d-a1b44e3ac536",
   "metadata": {},
   "outputs": [
    {
     "name": "stdout",
     "output_type": "stream",
     "text": [
      "Hii\n"
     ]
    }
   ],
   "source": [
    "print(\"Hii\")"
   ]
  },
  {
   "cell_type": "code",
   "execution_count": 3,
   "id": "a767811a-bc78-4f18-8ee0-37f53dfae7a6",
   "metadata": {},
   "outputs": [
    {
     "name": "stdout",
     "output_type": "stream",
     "text": [
      "Hello World\n"
     ]
    }
   ],
   "source": [
    "print(\"Hello\",end=\" \")\n",
    "\n",
    "print(\"World\")"
   ]
  },
  {
   "cell_type": "markdown",
   "id": "64522ce7-1f78-4c4a-b825-3636017f86e7",
   "metadata": {},
   "source": [
    "## python lab"
   ]
  },
  {
   "cell_type": "code",
   "execution_count": 4,
   "id": "c147e345-9921-4af9-8ff7-ad01bec8ae33",
   "metadata": {},
   "outputs": [
    {
     "name": "stdout",
     "output_type": "stream",
     "text": [
      "Shirisha\n"
     ]
    }
   ],
   "source": [
    "a='Shirisha'\n",
    "print(a)"
   ]
  },
  {
   "cell_type": "code",
   "execution_count": 5,
   "id": "37fb47dc-2e03-4821-949d-bcbe7224f0d8",
   "metadata": {},
   "outputs": [
    {
     "name": "stdout",
     "output_type": "stream",
     "text": [
      "Hello Shirisha\n"
     ]
    }
   ],
   "source": [
    "print(\"Hello\",a)"
   ]
  },
  {
   "cell_type": "markdown",
   "id": "37908e5d-bc39-4495-8b31-f4675338ba08",
   "metadata": {},
   "source": [
    "# Sorting list"
   ]
  },
  {
   "cell_type": "code",
   "execution_count": 6,
   "id": "2b16848f-d259-4d04-8c8a-4756a2b4fab5",
   "metadata": {},
   "outputs": [
    {
     "name": "stdout",
     "output_type": "stream",
     "text": [
      "[0, 1, 2, 3, 5, 8, 9]\n"
     ]
    }
   ],
   "source": [
    "list=[8,9,0,1,3,5,2]\n",
    "def sorting():\n",
    "    for i in range(0,len(list)):\n",
    "        for j in range(i+1,len(list)):\n",
    "            if(list[i]>list[j]):\n",
    "                a=list[i]\n",
    "                list[i]=list[j]\n",
    "                list[j]=a\n",
    "    print(list)\n",
    "\n",
    "sorting()"
   ]
  },
  {
   "cell_type": "markdown",
   "id": "8b30dfcd-d799-4b1e-a23c-7af5ece3b409",
   "metadata": {},
   "source": [
    "# Binary Search"
   ]
  },
  {
   "cell_type": "code",
   "execution_count": 10,
   "id": "aa062bfa-5540-4870-aff9-7b57c65a4327",
   "metadata": {},
   "outputs": [
    {
     "name": "stdout",
     "output_type": "stream",
     "text": [
      "[0, 1, 2, 3, 5, 8, 9]\n"
     ]
    },
    {
     "name": "stdin",
     "output_type": "stream",
     "text": [
      "Enter the searching key 4\n"
     ]
    },
    {
     "name": "stdout",
     "output_type": "stream",
     "text": [
      "Not Found\n"
     ]
    }
   ],
   "source": [
    "l=0\n",
    "sorting()\n",
    "k=int(input(\"Enter the searching key\"))\n",
    "for i in range(0,len(list)):\n",
    "    if(k==list[i]):\n",
    "        l=1\n",
    "        print(\"found at {}\".format(i))\n",
    "\n",
    "if(l==0):\n",
    "    print(\"Not Found\")"
   ]
  },
  {
   "cell_type": "code",
   "execution_count": null,
   "id": "6dad2d39-9792-4539-9aba-86f0d57d29ac",
   "metadata": {},
   "outputs": [],
   "source": []
  }
 ],
 "metadata": {
  "kernelspec": {
   "display_name": "Python 3 (ipykernel)",
   "language": "python",
   "name": "python3"
  },
  "language_info": {
   "codemirror_mode": {
    "name": "ipython",
    "version": 3
   },
   "file_extension": ".py",
   "mimetype": "text/x-python",
   "name": "python",
   "nbconvert_exporter": "python",
   "pygments_lexer": "ipython3",
   "version": "3.8.10"
  }
 },
 "nbformat": 4,
 "nbformat_minor": 5
}
